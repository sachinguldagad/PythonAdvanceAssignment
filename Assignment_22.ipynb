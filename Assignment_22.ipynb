{
 "cells": [
  {
   "cell_type": "markdown",
   "id": "002a69cf",
   "metadata": {},
   "source": [
    "# Q1. What are the benefits of the built-in array package, if any?\n",
    "The Array is built-in Python, which only means that you don’t need to download and install it because it comes with native Python for sure.\n",
    "it must bring some benefits. That is the so-call “trade-off”. In this case, Python Array will have a smaller size than Python List.This is because the type code of the array is fixed and the number of bytes of each item is also fixed. It loses some flexibility but has less overhead."
   ]
  },
  {
   "cell_type": "markdown",
   "id": "28992108",
   "metadata": {},
   "source": [
    "# Q2. What are some of the array package's limitations?\n",
    "Python array can only contain elements with a certain type.\n",
    "You still need to import array.\n"
   ]
  },
  {
   "cell_type": "markdown",
   "id": "de54b7dc",
   "metadata": {},
   "source": [
    "# Q3. Describe the main differences between the array and numpy packages.\n",
    " A numpy array is a grid of values, all of the same type, and is indexed by a tuple of nonnegative integers.\n",
    " A list is the Python equivalent of an array, but is resizeable and can contain elements of different types.\n",
    "\n",
    "A common beginner question is what is the real difference here. The answer is performance. Numpy data structures perform better in:\n",
    "\n",
    "Size - Numpy data structures take up less space\n",
    "Performance - they have a need for speed and are faster than lists\n",
    "Functionality - SciPy and NumPy have optimized functions such as linear algebra operations built in."
   ]
  },
  {
   "cell_type": "markdown",
   "id": "935286b5",
   "metadata": {},
   "source": [
    "# Q4. Explain the distinctions between the empty, ones, and zeros functions.\n",
    "\n",
    "At such sizes, basically the only difference between numpy.empty and numpy.zeros is that empty uses malloc and zeros uses calloc.\n",
    "\n",
    "If you want to check this yourself, you can look at the code for empty and zeros in the NumPy source repository and follow the code paths down to the malloc and calloc calls."
   ]
  },
  {
   "cell_type": "markdown",
   "id": "cad7ef86",
   "metadata": {},
   "source": [
    "# Q5. In the fromfunction function, which is used to construct new arrays, what is the role of the callable argument?\n",
    "\n",
    "At such sizes, basically the only difference between numpy.empty and numpy.zeros is that empty uses malloc and zeros uses calloc.\n",
    "\n",
    "If you want to check this yourself, you can look at the code for empty and zeros in the NumPy source repository and follow the code paths down to the malloc and calloc calls."
   ]
  },
  {
   "cell_type": "markdown",
   "id": "2c6ddbf2",
   "metadata": {},
   "source": [
    "# Q6. What happens when a numpy array is combined with a single-value operand (a scalar, such as an int or a floating-point value) through addition, as in the expression A + n?\n",
    "\n",
    "When a numpy array is combined with a single_value operand such as scalar through addition. Then that perticular scalar value get added in every element of numpy array. Example shown below."
   ]
  },
  {
   "cell_type": "code",
   "execution_count": 1,
   "id": "8b73d9f9",
   "metadata": {},
   "outputs": [
    {
     "name": "stdout",
     "output_type": "stream",
     "text": [
      "[ 4.    5.    9.9   5.3   8.9   2.11 12.3  14.9 ]\n"
     ]
    }
   ],
   "source": [
    "import numpy as np\n",
    "lst = [2,3, 7.9, 3.3, 6.9, 0.11, 10.3, 12.9]\n",
    "v = np.array(lst)\n",
    "v = v + 2\n",
    "print(v)\n"
   ]
  },
  {
   "cell_type": "markdown",
   "id": "93b89b03",
   "metadata": {},
   "source": [
    "# Q7. Can array-to-scalar operations use combined operation-assign operators (such as += or *=)? What is the outcome?\n",
    "\n",
    "It will add or multiply for += or *=  those symbols respectivly. "
   ]
  },
  {
   "cell_type": "code",
   "execution_count": 2,
   "id": "25fab1d6",
   "metadata": {},
   "outputs": [
    {
     "name": "stdout",
     "output_type": "stream",
     "text": [
      "[ 4.    5.    9.9   5.3   8.9   2.11 12.3  14.9 ]\n"
     ]
    }
   ],
   "source": [
    "lst = [2,3, 7.9, 3.3, 6.9, 0.11, 10.3, 12.9]\n",
    "v = np.array(lst)\n",
    "v+= 2\n",
    "print(v)"
   ]
  },
  {
   "cell_type": "markdown",
   "id": "26ae3bc8",
   "metadata": {},
   "source": [
    "# Q8. Does a numpy array contain fixed-length strings? What happens if you allocate a longer string to one of these arrays?\n",
    "Yes numpy array contain fixed-length strings. If you allocat a longer string to one of these arrays it will throw error."
   ]
  },
  {
   "cell_type": "markdown",
   "id": "ef13600b",
   "metadata": {},
   "source": [
    "# Q9. What happens when you combine two numpy arrays using an operation like addition (+) or multiplication (*)? What are the conditions for combining two numpy arrays?\n",
    "\n",
    "If we use another array instead of a scalar, the elements of both arrays will be component-wise combined for both multiplication as well addition operation. \n",
    "\n",
    "Join a sequence of arrays along an existing axis. The arrays must have the same shape, except in the dimension corresponding to axis (the first, by default). The axis along which the arrays will be joined."
   ]
  },
  {
   "cell_type": "markdown",
   "id": "9f60922f",
   "metadata": {},
   "source": [
    "# Q10. What is the best way to use a Boolean array to mask another array?\n",
    "\n",
    "A more powerful pattern is to use Boolean arrays as masks, to select particular subsets of the data themselves. Returning to our x array from before, suppose we want an array of all values in the array that are less than, say, 5:\n",
    "\n",
    "In [26]:\n",
    "x\n",
    "Out[26]:\n",
    "array([[5, 0, 3, 3],\n",
    "       [7, 9, 3, 5],\n",
    "       [2, 4, 7, 6]])\n",
    "We can obtain a Boolean array for this condition easily, as we've already seen:\n",
    "\n",
    "In [27]:\n",
    "x < 5\n",
    "Out[27]:\n",
    "array([[False,  True,  True,  True],\n",
    "       [False, False,  True, False],\n",
    "       [ True,  True, False, False]], dtype=bool)\n",
    "Now to select these values from the array, we can simply index on this Boolean array; this is known as a masking operation:\n",
    "\n",
    "In [28]:\n",
    "x[x < 5]\n",
    "Out[28]:\n",
    "array([0, 3, 3, 3, 2, 4])\n",
    "What is returned is a one-dimensional array filled with all the values that meet this condition; in other words, all the values in positions at which the mask array is True.\n"
   ]
  },
  {
   "cell_type": "markdown",
   "id": "0d1be4f8",
   "metadata": {},
   "source": [
    "# Q11. What are three different ways to get the standard deviation of a wide collection of data using both standard Python and its packages? Sort the three of them by how quickly they execute.\n",
    "\n",
    "The Python statistics module also provides functions to calculate the standard deviation. We can find pstdev() and stdev(), std(). The first function takes the data of an entire population and returns its standard deviation. The second function takes data from a sample and returns an estimation of the population standard deviation."
   ]
  },
  {
   "cell_type": "markdown",
   "id": "bf62d13f",
   "metadata": {},
   "source": [
    "# 12. What is the dimensionality of a Boolean mask-generated array?\n",
    "Dimesionality of Boolean mask-generated arrya is 1 Dimensional array."
   ]
  }
 ],
 "metadata": {
  "kernelspec": {
   "display_name": "Python 3 (ipykernel)",
   "language": "python",
   "name": "python3"
  },
  "language_info": {
   "codemirror_mode": {
    "name": "ipython",
    "version": 3
   },
   "file_extension": ".py",
   "mimetype": "text/x-python",
   "name": "python",
   "nbconvert_exporter": "python",
   "pygments_lexer": "ipython3",
   "version": "3.9.7"
  }
 },
 "nbformat": 4,
 "nbformat_minor": 5
}
