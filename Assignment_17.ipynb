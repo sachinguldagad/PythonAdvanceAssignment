{
 "cells": [
  {
   "cell_type": "markdown",
   "id": "de803027",
   "metadata": {},
   "source": [
    "# Q1. Explain the difference between greedy and non-greedy syntax with visual terms in as few words as possible. What is the bare minimum effort required to transform a greedy pattern into a non-greedy one? What characters or characters can you introduce or change?\n",
    "\n",
    "1) The greedy match will try to match as many repetitions of the quantified pattern as possible. The non-greedy match will try to match as few repetitions of the quantified pattern as possible.\n",
    "2) Replace the offending greedy quantifier with the corresponding non-greedy version. That is, change * , + , ? , and {} into *? , +? , ?? , and {}? , respectively."
   ]
  },
  {
   "cell_type": "markdown",
   "id": "c4716bf7",
   "metadata": {},
   "source": [
    "# Q2. When exactly does greedy versus non-greedy make a difference?  What if you're looking for a non-greedy match but the only one available is greedy?\n",
    "The greedy match will try to match as many repetitions of the quantified pattern as possible. The non-greedy match will try to match as few repetitions of the quantified pattern as possible.\n"
   ]
  },
  {
   "cell_type": "markdown",
   "id": "ad89640a",
   "metadata": {},
   "source": [
    "# Q3. In a simple match of a string, which looks only for one match and does not do any replacement, is the use of a nontagged group likely to make any practical difference?\n"
   ]
  },
  {
   "cell_type": "markdown",
   "id": "bf6d8e4f",
   "metadata": {},
   "source": [
    "# Q4. Describe a scenario in which using a nontagged category would have a significant impact on the program's outcomes."
   ]
  },
  {
   "cell_type": "markdown",
   "id": "797617b0",
   "metadata": {},
   "source": [
    "# Q5. Unlike a normal regex pattern, a look-ahead condition does not consume the characters it examines. Describe a situation in which this could make a difference in the results of your programme."
   ]
  },
  {
   "cell_type": "markdown",
   "id": "35d1c9ed",
   "metadata": {},
   "source": [
    "# Q6. In standard expressions, what is the difference between positive look-ahead and negative look-ahead?\n",
    "Positive lookahead: (?= «pattern») matches if pattern matches what comes after the current location in the input string. Negative lookahead: (?! «pattern») matches if pattern does not match what comes after the current location in the input string."
   ]
  },
  {
   "cell_type": "markdown",
   "id": "480d338d",
   "metadata": {},
   "source": [
    "# Q7. What is the benefit of referring to groups by name rather than by number in a standard expression?\n",
    "The advantage to named groups is that it adds readability and understandability to the code, so that you can easily see what part of a regular expression match is being referenced."
   ]
  },
  {
   "cell_type": "markdown",
   "id": "cd876fbb",
   "metadata": {},
   "source": [
    "# Q8. Can you identify repeated items within a target string using named groups, as in \"The cow jumped over the moon\"?"
   ]
  },
  {
   "cell_type": "markdown",
   "id": "2305c4c6",
   "metadata": {},
   "source": [
    "# Q9. When parsing a string, what is at least one thing that the Scanner interface does for you that the re.findall feature does not?\n",
    "findall(): Finding all matches in a string/list. Regex's findall() function is extremely useful as it returns a list of strings containing all matches\n",
    "\n",
    "Scanner can scan input as well so it does not target any specific string for finding matches."
   ]
  },
  {
   "cell_type": "markdown",
   "id": "6719ec28",
   "metadata": {},
   "source": [
    "# Q10. Does a scanner object have to be named scanner?\n",
    "No, it is not compulsory to name scanner object as scanner. We can name it with anything."
   ]
  }
 ],
 "metadata": {
  "kernelspec": {
   "display_name": "Python 3 (ipykernel)",
   "language": "python",
   "name": "python3"
  },
  "language_info": {
   "codemirror_mode": {
    "name": "ipython",
    "version": 3
   },
   "file_extension": ".py",
   "mimetype": "text/x-python",
   "name": "python",
   "nbconvert_exporter": "python",
   "pygments_lexer": "ipython3",
   "version": "3.9.7"
  }
 },
 "nbformat": 4,
 "nbformat_minor": 5
}
