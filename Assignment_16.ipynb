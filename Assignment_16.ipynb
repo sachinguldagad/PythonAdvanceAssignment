{
 "cells": [
  {
   "cell_type": "markdown",
   "id": "30f53f5b",
   "metadata": {},
   "source": [
    "# Q1. What is the benefit of regular expressions?\n",
    "Regular expressions are useful in search and replace operations. The typical use case is to look for a sub-string that matches a pattern and replace it with something else. Most APIs using regular expressions allow you to reference capture groups from the search pattern in the replacement string."
   ]
  },
  {
   "cell_type": "markdown",
   "id": "c669d2d0",
   "metadata": {},
   "source": [
    "# Q2. Describe the difference between the effects of \"(ab)c+\" and \"a(bc)+.\" Which of these, if any, is the unqualified pattern \"abc+\"?\n",
    "Answer:\n",
    "(ab)c+ = This regular expression represents abc and then any number c's after that.\n",
    "a(bc)+ = This regular expression represents abc and then any number of bc's after that.\n",
    "a(bc)+ is unqualified pattern for pattern \"abc+\".\n"
   ]
  },
  {
   "cell_type": "markdown",
   "id": "af25d22e",
   "metadata": {},
   "source": [
    "# Q3. How much do you need to use the following sentence while using regular expressions?\n",
    "\n",
    "import re\n",
    "To import libraries related to regular expression. We have to use import re once in script."
   ]
  },
  {
   "cell_type": "markdown",
   "id": "20374134",
   "metadata": {},
   "source": [
    "# Q4. Which characters have special significance in square brackets when expressing a range, and under what circumstances?\n",
    "Inside a character class, only the character class metacharacters (backslash, circumflex anchor and hyphen) have special meaning."
   ]
  },
  {
   "cell_type": "markdown",
   "id": "8e6d225d",
   "metadata": {},
   "source": [
    "# Q5. How does compiling a regular-expression object benefit you?\n",
    "We can combine a regular expression pattern into pattern objects, which can be used for pattern matching. It also helps to search a pattern again without rewriting it."
   ]
  },
  {
   "cell_type": "markdown",
   "id": "be76b40c",
   "metadata": {},
   "source": [
    "# Q6. What are some examples of how to use the match object returned by re.match and re.search?\n",
    "The re.search() and re.match() both are functions of re module in python. These functions are very efficient and fast for searching in strings. The function searches for some substring in a string and returns a match object if found, else it returns none.\n",
    "\n"
   ]
  },
  {
   "cell_type": "code",
   "execution_count": 1,
   "id": "009ea5ca",
   "metadata": {},
   "outputs": [
    {
     "name": "stdout",
     "output_type": "stream",
     "text": [
      "<re.Match object; span=(75, 81), match='string'>\n",
      "None\n",
      "<re.Match object; span=(0, 6), match='string'>\n",
      "<re.Match object; span=(0, 6), match='string'>\n"
     ]
    }
   ],
   "source": [
    "import re\n",
    " \n",
    "Substring ='string'\n",
    " \n",
    " \n",
    "String1 ='''We are learning regex with geeksforgeeks\n",
    "         regex is very useful for string matching.\n",
    "          It is fast too.'''\n",
    "String2 ='''string We are learning regex with geeksforgeeks\n",
    "         regex is very useful for string matching.\n",
    "          It is fast too.'''\n",
    " \n",
    "# Use of re.search() Method\n",
    "print(re.search(Substring, String1, re.IGNORECASE))\n",
    "# Use of re.match() Method\n",
    "print(re.match(Substring, String1, re.IGNORECASE))\n",
    " \n",
    "# Use of re.search() Method\n",
    "print(re.search(Substring, String2, re.IGNORECASE))\n",
    "# Use of re.match() Method\n",
    "print(re.match(Substring, String2, re.IGNORECASE))"
   ]
  },
  {
   "cell_type": "markdown",
   "id": "af4dc8e0",
   "metadata": {},
   "source": [
    "# Q7. What is the difference between using a vertical bar (|) as an alteration and using square brackets as a character set?\n",
    "Square brackets allow only characters or character classes. Alternation allows any expressions."
   ]
  },
  {
   "cell_type": "markdown",
   "id": "9161c59a",
   "metadata": {},
   "source": [
    "# Q8. In regular-expression search patterns, why is it necessary to use the raw-string indicator (r)? In   replacement strings?\n",
    "Because regular expressions are frequently static strings, which are conveniently represented as string literals. And from the different string literal notations available, raw strings are a convenient choice, when the regular expression includes a backslash character."
   ]
  }
 ],
 "metadata": {
  "kernelspec": {
   "display_name": "Python 3 (ipykernel)",
   "language": "python",
   "name": "python3"
  },
  "language_info": {
   "codemirror_mode": {
    "name": "ipython",
    "version": 3
   },
   "file_extension": ".py",
   "mimetype": "text/x-python",
   "name": "python",
   "nbconvert_exporter": "python",
   "pygments_lexer": "ipython3",
   "version": "3.9.7"
  }
 },
 "nbformat": 4,
 "nbformat_minor": 5
}
