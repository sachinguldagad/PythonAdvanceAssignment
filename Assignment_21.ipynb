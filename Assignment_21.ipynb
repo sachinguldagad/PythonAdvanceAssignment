{
 "cells": [
  {
   "cell_type": "markdown",
   "id": "34529074",
   "metadata": {},
   "source": [
    "# Q1. What is a probability distribution, exactly? If the values are meant to be random, how can you predict them at all?\n",
    "\n",
    "A probability distribution is a statistical function that describes all the possible values and likelihoods that a random variable can take within a given range.These factors include the distribution's mean (average), standard deviation, skewness, and kurtosis.\n",
    "\n"
   ]
  },
  {
   "cell_type": "markdown",
   "id": "2f533adc",
   "metadata": {},
   "source": [
    "# Q2. Is there a distinction between true random numbers and pseudo-random numbers, if there is one? Why are the latter considered “good enough”?\n",
    "The difference between true random number generators(TRNGs) and pseudo-random number generators(PRNGs) is that TRNGs use an unpredictable physical means to generate numbers (like atmospheric noise), and PRNGs use mathematical algorithms (completely computer-generated)."
   ]
  },
  {
   "cell_type": "markdown",
   "id": "2724d9c7",
   "metadata": {},
   "source": [
    "# Q3. What are the two main factors that influence the behaviour of a \"normal\" probability distribution?\n",
    "The graph of the normal distribution depends on two factors - the mean and the standard deviation. The mean of the distribution determines the location of the center of the graph, and the standard deviation determines the height and width of the graph."
   ]
  },
  {
   "cell_type": "markdown",
   "id": "b0c121f7",
   "metadata": {},
   "source": [
    "# Q4. Provide a real-life example of a normal distribution.\n",
    "A fair rolling of dice is also a good example of normal distribution. In an experiment, it has been found that when a dice is rolled 100 times, chances to get '1' are 15-18% and if we roll the dice 1000 times, the chances to get '1' is, again, the same, which averages to 16.7% (1/6)."
   ]
  },
  {
   "cell_type": "markdown",
   "id": "9d69f08e",
   "metadata": {},
   "source": [
    "# Q5. In the short term, how can you expect a probability distribution to behave? What do you think will happen as the number of trials grows?\n",
    "In short term probability distribution don't give good idea about results. As there are chances are outliers may affect the result. As trials grwos . it give good idea about the results and outputs of predictions will be more perfect."
   ]
  },
  {
   "cell_type": "markdown",
   "id": "a9663a7a",
   "metadata": {},
   "source": [
    "# Q6. What kind of object can be shuffled by using random.shuffle?\n",
    "Strings and tuples are immutable, so using random.shuffle() to modify the original object will raise an error TypeError.\n",
    "List, Map, Dictionary can be shuffled by using random.shuffle."
   ]
  },
  {
   "cell_type": "markdown",
   "id": "43160385",
   "metadata": {},
   "source": [
    "# Q7. Describe the math package's general categories of functions.\n",
    "\n",
    "Types of Functions - Based on Set Elements\n",
    "Types of Function - Based on Equation\n",
    "Types of Functions - Based on Range\n",
    "Types oF Functions - Based on Domain"
   ]
  },
  {
   "cell_type": "markdown",
   "id": "577fa997",
   "metadata": {},
   "source": [
    "# Q8. What is the relationship between exponentiation and logarithms?\n",
    "Logarithmic functions are the inverses of exponential functions. The inverse of the exponential function y = ax is x = ay. The logarithmic function y = logax is defined to be equivalent to the exponential equation x = ay. y = logax only under the following conditions: x = ay, a > 0, and a≠1."
   ]
  },
  {
   "cell_type": "markdown",
   "id": "7a746e92",
   "metadata": {},
   "source": [
    "# Q9. What are the three logarithmic functions that Python supports?\n",
    "The math.log10(x) function calculates the logarithmic value of the numeric expression to the base 10.\n",
    "The math.log(x,Base) function calculates the logarithmic value of x i.e. numeric expression for a particular (desired) base value.\n",
    "The math.log2(x) function is used to calculate the logarithmic value of a numeric expression of base 2."
   ]
  }
 ],
 "metadata": {
  "kernelspec": {
   "display_name": "Python 3 (ipykernel)",
   "language": "python",
   "name": "python3"
  },
  "language_info": {
   "codemirror_mode": {
    "name": "ipython",
    "version": 3
   },
   "file_extension": ".py",
   "mimetype": "text/x-python",
   "name": "python",
   "nbconvert_exporter": "python",
   "pygments_lexer": "ipython3",
   "version": "3.9.7"
  }
 },
 "nbformat": 4,
 "nbformat_minor": 5
}
