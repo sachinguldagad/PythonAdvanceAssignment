{
 "cells": [
  {
   "cell_type": "markdown",
   "id": "9d7925b4",
   "metadata": {},
   "source": [
    "# Q1. Is it permissible to use several import statements to import the same module? What would the goal be? Can you think of a situation where it would be beneficial?\n",
    "Nothing, if a module has already been imported, it's not loaded again.\n",
    "You will simply get a reference to the module that has already been imported \n",
    "Subsequent import statements just add the module to the scope of the import."
   ]
  },
  {
   "cell_type": "markdown",
   "id": "694ad632",
   "metadata": {},
   "source": [
    "# Q2. What are some of a module's characteristics? (Name at least one.)\n",
    "\n",
    "Modules contain instructions, processing logic, and data.\n",
    "Modules can be separately compiled and stored in a library.\n",
    "Modules can be included in a program.\n",
    "Module segments can be used by invoking a name and some parameters.\n",
    "Module segments can be used by other modules."
   ]
  },
  {
   "cell_type": "markdown",
   "id": "e906c8d8",
   "metadata": {},
   "source": [
    "# Q3. Circular importing, such as when two modules import each other, can lead to dependencies and bugs that aren't visible. How can you go about creating a program that avoids mutual importing?\n",
    "\n",
    "When Python imports a module, it checks the module registry to see if the module was already imported. If the module was already registered, Python uses that existing object from cache. The module registry is a table of modules that have been initialized and indexed by module name. This table can be accessed through sys.modules.\n",
    "\n",
    "\n",
    "If it was not registered, Python finds the module, initializes it if necessary, and executes it in the new module's namespace.\n",
    "\n",
    "In our example, when Python reaches import module2, it loads and executes it. However, module2 also calls for module1, which in turn defines function1().\n",
    "\n",
    "The problem occurs when function2() tries to call module1's function3(). Since module1 was loaded first, and in turn loaded module2 before it could reach function3(), that function isn't yet defined and throws an error when called:"
   ]
  },
  {
   "cell_type": "markdown",
   "id": "7fc80a88",
   "metadata": {},
   "source": [
    "# Q4. Why is  _ _all_ _ in Python?\n",
    " __all__ is a list of public objects of that module, as interpreted by import *. The __all__ overrides the default of hiding everything that begins with an underscore. ... It is only in the case of an “import *“, which is not recommended anyway, that the contrast carries any weight."
   ]
  },
  {
   "cell_type": "markdown",
   "id": "8a683a74",
   "metadata": {},
   "source": [
    "# Q5. In what situation is it useful to refer to the _ _name_ _ attribute or the string '_ _main_ _'?\n",
    "\n",
    "In Python, the special name __main__ is used for two important constructs: the name of the top-level environment of the program, which can be checked using the __name__ == '__main__' expression; and. the __main__.py file in Python packages."
   ]
  },
  {
   "cell_type": "markdown",
   "id": "51aed04a",
   "metadata": {},
   "source": [
    "# Q6. What are some of the benefits of attaching a program counter to the RPN interpreter application, which interprets an RPN script line by line?\n",
    "An advantage of reverse Polish notation is that it removes the need for parentheses that are required by infix notation. While 3 − 4 × 5 can also be written 3 − (4 × 5), that means something quite different from (3 − 4) × 5."
   ]
  },
  {
   "cell_type": "markdown",
   "id": "ac326140",
   "metadata": {},
   "source": [
    "## Q7. What are the minimum expressions or statements (or both) that you'd need to render a basic programming language like RPN primitive but complete— that is, capable of carrying out any computerised task theoretically possible?\n",
    "When Python imports a module, it checks the module registry to see if the module was already imported. If the module was already registered, Python uses that existing object from cache. The module registry is a table of modules that have been initialized and indexed by module name. This table can be accessed through sys.modules.\n",
    "\n",
    "\n",
    "If it was not registered, Python finds the module, initializes it if necessary, and executes it in the new module's namespace.\n",
    "\n",
    "In our example, when Python reaches import module2, it loads and executes it. However, module2 also calls for module1, which in turn defines function1().\n",
    "\n",
    "The problem occurs when function2() tries to call module1's function3(). Since module1 was loaded first, and in turn loaded module2 before it could reach function3(), that function isn't yet defined and throws an error when called:"
   ]
  }
 ],
 "metadata": {
  "kernelspec": {
   "display_name": "Python 3 (ipykernel)",
   "language": "python",
   "name": "python3"
  },
  "language_info": {
   "codemirror_mode": {
    "name": "ipython",
    "version": 3
   },
   "file_extension": ".py",
   "mimetype": "text/x-python",
   "name": "python",
   "nbconvert_exporter": "python",
   "pygments_lexer": "ipython3",
   "version": "3.9.7"
  }
 },
 "nbformat": 4,
 "nbformat_minor": 5
}
