{
 "cells": [
  {
   "cell_type": "markdown",
   "id": "6edebeba",
   "metadata": {},
   "source": [
    "# Q1. If you have any, what are your choices for increasing the comparison between different figures on the same graph?\n",
    "\n",
    "Pie charts are best to use when you are trying to compare parts of a whole. They do not show changes over time. . . . ... Bar graphs are used to compare things between different groups or to track changes over time."
   ]
  },
  {
   "cell_type": "markdown",
   "id": "31ad8aa2",
   "metadata": {},
   "source": [
    "# Q2. Can you explain the benefit of compound interest over a higher rate of interest that does not compound after reading this chapter?\n",
    "because in addition to earning returns on the money you invest, you also earn returns on those returns at the end of every compounding period, which could be daily, monthly, quarterly or annually."
   ]
  },
  {
   "cell_type": "markdown",
   "id": "6d932532",
   "metadata": {},
   "source": [
    "# Q3. What is a histogram, exactly? Name a numpy method for creating such a graph.\n",
    "\n",
    "A histogram is a graph that represents the tones in an image: the highlights, the shadows, and everything in between. Every image has a unique histogram, which is displayed on your camera and by most post-processing programs.\n",
    "NumPy. histogram() Method in Python"
   ]
  },
  {
   "cell_type": "markdown",
   "id": "c3d7025c",
   "metadata": {},
   "source": [
    "# Q4. If necessary, how do you change the aspect ratios between the X and Y axes?\n",
    "The data aspect ratio is the relative length of the data units along the x-axis, y-axis, and z-axis. You can change the aspect ratio using the daspect function. Set the ratio as a three-element vector of positive values that represent the relative lengths of data units along each axis."
   ]
  },
  {
   "cell_type": "markdown",
   "id": "b15c9fdb",
   "metadata": {},
   "source": [
    "## Q5. Compare and contrast the three types of array multiplication between two numpy arrays: dot product, outer product, and regular multiplication of two numpy arrays.\n",
    "The data aspect ratio is the relative length of the data units along the x-axis, y-axis, and z-axis. You can change the aspect ratio using the daspect function. Set the ratio as a three-element vector of positive values that represent the relative lengths of data units along each axis."
   ]
  },
  {
   "cell_type": "markdown",
   "id": "6c7bc2d4",
   "metadata": {},
   "source": [
    "# Q6. Before you buy a home, which numpy function will you use to measure your monthly mortgage payment?\n",
    "In order to calculate the monthly mortgage payment, you will use the numpy function . pmt(rate, nper, pv) where: rate = The periodic (monthly) interest rate."
   ]
  },
  {
   "cell_type": "markdown",
   "id": "da740890",
   "metadata": {},
   "source": [
    "# Q7. Can string data be stored in numpy arrays? If so, list at least one restriction that applies to this data.\n",
    "The elements of a NumPy array, or simply an array, are usually numbers, but can also be boolians, strings, or other objects.\n",
    "The dtype of any numpy array containing string values is the maximum length of any string present in the array. Once set, it will only be able to store new string having length not more than the maximum length at the time of the creation. If we try to reassign some another string value having length greater than the maximum length of the existing elements, it simply discards all the values beyond the maximum length."
   ]
  }
 ],
 "metadata": {
  "kernelspec": {
   "display_name": "Python 3 (ipykernel)",
   "language": "python",
   "name": "python3"
  },
  "language_info": {
   "codemirror_mode": {
    "name": "ipython",
    "version": 3
   },
   "file_extension": ".py",
   "mimetype": "text/x-python",
   "name": "python",
   "nbconvert_exporter": "python",
   "pygments_lexer": "ipython3",
   "version": "3.9.7"
  }
 },
 "nbformat": 4,
 "nbformat_minor": 5
}
