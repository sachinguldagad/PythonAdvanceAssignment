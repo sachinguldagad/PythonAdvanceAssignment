{
 "cells": [
  {
   "cell_type": "markdown",
   "id": "bfc8279c",
   "metadata": {},
   "source": [
    "# Q1. Describe the differences between text and binary files in a single paragraph.\n",
    "Binary file contains the data in the form of 0 and 1(series of binary values) and text files contains the data in the form of stream of characters.In general binary files are identified as executable files. But binary files are not in readable form as like text file.\n"
   ]
  },
  {
   "cell_type": "markdown",
   "id": "f2f5e1bd",
   "metadata": {},
   "source": [
    "# Q2. What are some scenarios where using text files will be the better option? When would you like to use binary files instead of text files?\n",
    "\n",
    "When file does need to be read by people or need to be ported to a different type of system text files should be preferred over binary files.\n",
    "\n",
    "Binary files are used to store data more compactly. In the text file, a special character whose ASCII value is 26 inserted after the last character to mark the end of file. In the binary file no such character is present. Files keep track of the end of the file from the number of characters present."
   ]
  },
  {
   "cell_type": "markdown",
   "id": "b2c31733",
   "metadata": {},
   "source": [
    "# # Q3. What are some of the issues with using binary operations to read and write a Python integer directly to disc?\n",
    "Binary files are used to store data more compactly. In the text file, a special character whose ASCII value is 26 inserted after the last character to mark the end of file. In the binary file no such character is present. Files keep track of the end of the file from the number of characters present."
   ]
  },
  {
   "cell_type": "markdown",
   "id": "2587a628",
   "metadata": {},
   "source": [
    "# Q4. Describe a benefit of using the with keyword instead of explicitly opening a file.\n",
    "Using with means that the file will be closed as soon as you leave the block. This is beneficial because closing a file is something that can easily be forgotten and ties up resources that you no longer need."
   ]
  },
  {
   "cell_type": "markdown",
   "id": "db4a2241",
   "metadata": {},
   "source": [
    "# Q5. Does Python have the trailing newline while reading a line of text? Does Python append a newline when you write a line of text?\n",
    "Python readline() is a file method that helps to read one complete line from the given file. It has a trailing newline (“\\n”) at the end of the string returned. So yes python have the trailing newline while reading a line of text.\n",
    "\n",
    "A backslash escape, \\n , which Python converts to a newline character in string literals. It just concatenates your string, name , and that newline character into a bigger string, which gets written to the file."
   ]
  },
  {
   "cell_type": "markdown",
   "id": "da8525f4",
   "metadata": {},
   "source": [
    "# Q6. What file operations enable for random-access operation?\n",
    "To access a file randomly, you open the file, seek a particular location, and read from or write to that file. This functionality is possible with the SeekableByteChannel interface. The SeekableByteChannel interface extends channel I/O with the notion of a current position.\n",
    "\n",
    "open() - open a file- specify how it's opened (read/write) and type (binary/text)\n",
    "close() - close an opened file."
   ]
  },
  {
   "cell_type": "markdown",
   "id": "d370378e",
   "metadata": {},
   "source": [
    "# Q7. When do you think you'll use the struct package the most?\n",
    "struct.pack() is the function that converts a given list of values into their corresponding string representation. It requires the user to specify the format and order of the values that need to be converted.\n",
    "\n",
    "struct.unpack() function converts the strings of binary representations to their original form according to the specified format. The return type of struct.unpack() is always a tuple."
   ]
  },
  {
   "cell_type": "markdown",
   "id": "491ccdc2",
   "metadata": {},
   "source": [
    "# Q8. When is pickling the best option?\n",
    "The Python pickle module is a better choice for all the remaining use cases. If you don't need a human-readable format or a standard interoperable format, or if you need to serialize custom objects, then go with pickle ."
   ]
  },
  {
   "cell_type": "markdown",
   "id": "c3256c80",
   "metadata": {},
   "source": [
    "# Q9. When will it be best to use the shelve package?\n",
    "The shelve module implements persistent storage for arbitrary Python objects which can be pickled, using a dictionary-like API. The shelve module can be used as a simple persistent storage option for Python objects when a relational database is overkill."
   ]
  },
  {
   "cell_type": "markdown",
   "id": "8b8b4420",
   "metadata": {},
   "source": [
    "# Q10. What is a special restriction when using the shelve package, as opposed to using other data dictionaries?\n",
    "The shelf dictionary has certain restrictions. Only string data type can be used as key in this special dictionary object, whereas any picklable Python object can be used as value."
   ]
  }
 ],
 "metadata": {
  "kernelspec": {
   "display_name": "Python 3 (ipykernel)",
   "language": "python",
   "name": "python3"
  },
  "language_info": {
   "codemirror_mode": {
    "name": "ipython",
    "version": 3
   },
   "file_extension": ".py",
   "mimetype": "text/x-python",
   "name": "python",
   "nbconvert_exporter": "python",
   "pygments_lexer": "ipython3",
   "version": "3.9.7"
  }
 },
 "nbformat": 4,
 "nbformat_minor": 5
}
