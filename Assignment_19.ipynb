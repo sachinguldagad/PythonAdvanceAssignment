{
 "cells": [
  {
   "cell_type": "markdown",
   "id": "b2252fec",
   "metadata": {},
   "source": [
    "# Q1. Define the relationship between a class and its instances. Is it a one-to-one or a one-to-many partnership, for example?\n",
    "\n",
    "A class is a blueprint which you use to create objects. An object is an instance of a class - it's a concrete 'thing' that you made using a specific class. So, 'object' and 'instance' are the same thing, but the word 'instance' indicates the relationship of an object to its class.\n",
    "\n",
    "There is one-to-many partnership between class and its instances. As one class can have multiple instances.\n",
    "For example, suppose you have a class House. Your own house is an object and is an instance of class House. Your sister's house is another object (another instance of class House)."
   ]
  },
  {
   "cell_type": "markdown",
   "id": "cbc87dcc",
   "metadata": {},
   "source": [
    "# Q2. What kind of data is held only in an instance?\n",
    "All instances of an object have their own copies of instance variables, even if the value is the same from one object to another. One object instance can change values of its instance variables without affecting all other instances. Instance variables can be used by all methods of a class unless the method is declared as static."
   ]
  },
  {
   "cell_type": "markdown",
   "id": "55ebdbac",
   "metadata": {},
   "source": [
    "# Q3. What kind of knowledge is stored in a class?\n",
    "\n",
    "Classes provide us a way to describe the data and functionality of the objects. ... Defining a new class in Python allows us to create a new type of object. A user-defined class describes the data that the class object should store and methods and can be used to manage that data.\n"
   ]
  },
  {
   "cell_type": "markdown",
   "id": "00202073",
   "metadata": {},
   "source": [
    "# Q4. What exactly is a method, and how is it different from a regular function?\n",
    "\n",
    "Python method is called on an object, unlike a function. ... Since we call a method on an object, it can access the data within it. A method may alter an object's state, but Python function usually only operates on it, and then prints something or returns a value"
   ]
  },
  {
   "cell_type": "markdown",
   "id": "7bdb4479",
   "metadata": {},
   "source": [
    "# Q5. Is inheritance supported in Python, and if so, what is the syntax?\n",
    "\n",
    "Inheritance supported in Python.\n",
    "Syntax for inheritance in python is:\n"
   ]
  },
  {
   "cell_type": "code",
   "execution_count": 1,
   "id": "a2f36ed2",
   "metadata": {},
   "outputs": [
    {
     "name": "stdout",
     "output_type": "stream",
     "text": [
      "Geek1 False\n",
      "Geek2 True\n"
     ]
    }
   ],
   "source": [
    "# A Python program to demonstrate inheritance \n",
    "   \n",
    "# Base or Super class. Note object in bracket.\n",
    "# (Generally, object is made ancestor of all classes)\n",
    "# In Python 3.x \"class Person\" is \n",
    "# equivalent to \"class Person(object)\"\n",
    "class Person(object):\n",
    "       \n",
    "    # Constructor\n",
    "    def __init__(self, name):\n",
    "        self.name = name\n",
    "   \n",
    "    # To get name\n",
    "    def getName(self):\n",
    "        return self.name\n",
    "   \n",
    "    # To check if this person is an employee\n",
    "    def isEmployee(self):\n",
    "        return False\n",
    "   \n",
    "   \n",
    "# Inherited or Subclass (Note Person in bracket)\n",
    "class Employee(Person):\n",
    "   \n",
    "    # Here we return true\n",
    "    def isEmployee(self):\n",
    "        return True\n",
    "   \n",
    "# Driver code\n",
    "emp = Person(\"Geek1\")  # An Object of Person\n",
    "print(emp.getName(), emp.isEmployee())\n",
    "   \n",
    "emp = Employee(\"Geek2\") # An Object of Employee\n",
    "print(emp.getName(), emp.isEmployee())\n"
   ]
  },
  {
   "cell_type": "markdown",
   "id": "b259c3cc",
   "metadata": {},
   "source": [
    "# Q6. How much encapsulation (making instance or class variables private) does Python support?\n",
    "\n",
    "Python does not have the private keyword, unlike some other object oriented languages, but encapsulation can be done. Instead, it relies on the convention: a class variable that should not directly be accessed should be prefixed with an underscore."
   ]
  },
  {
   "cell_type": "markdown",
   "id": "dba45249",
   "metadata": {},
   "source": [
    "# Q7. How do you distinguish between a class variable and an instance variable?\n",
    "\n",
    "Instance Variable\n",
    "\n",
    "It is a variable whose value is instance-specific and now shared among instances.  \n",
    "These variables cannot be shared between classes. Instead, they only belong to one specific class.  \n",
    "It usually reserves memory for data that the class needs. \n",
    "It is generally created when an instance of the class is created. \n",
    "It normally retains values as long as the object exists. \n",
    "It has many copies so every object has its own personal copy of the instance variable. "
   ]
  },
  {
   "cell_type": "code",
   "execution_count": null,
   "id": "4a91f420",
   "metadata": {},
   "outputs": [],
   "source": [
    "Class Variable\n",
    "\n",
    "It is a variable that defines a specific attribute or property for a class.  \n",
    "These variables can be shared between class and its subclasses. \n",
    "It usually maintains a single shared value for all instances of class even if no instance object of the class exists.  \n",
    "It is generally created when the program begins to execute.\n",
    "It normally retains values until the program terminates.\n",
    "It has only one copy of the class variable so it is shared among different objects of the class."
   ]
  },
  {
   "cell_type": "markdown",
   "id": "967b2a60",
   "metadata": {},
   "source": [
    "# Q8. When, if ever, can self be included in a class's method definitions?\n",
    "\n",
    "self represents the instance of the class. By using the “self” keyword we can access the attributes and methods of the class in python. It binds the attributes with the given arguments"
   ]
  },
  {
   "cell_type": "markdown",
   "id": "4bd573d5",
   "metadata": {},
   "source": [
    "# Q9. What is the difference between the _ _add_ _ and the _ _radd_ _ methods?\n",
    "\n",
    "There is no difference. One performs a+b, the other b+a. Likewise rmul and mul produce the same result, but rsub and sub & rdiv and div do not. "
   ]
  },
  {
   "cell_type": "markdown",
   "id": "d353ef4d",
   "metadata": {},
   "source": [
    "# Q10. When is it necessary to use a reflection method? When do you not need it, even though you support the operation in question?\n",
    "\n",
    "Reflection gives us information about the class to which an object belongs and also the methods of that class which can be executed by using the object. Through reflection we can invoke methods at runtime irrespective of the access specifier used with them.\n"
   ]
  },
  {
   "cell_type": "markdown",
   "id": "961e20ad",
   "metadata": {},
   "source": [
    "# Q11. What is the _ _iadd_ _ method called?\n",
    "Python's object. __add__(self, other) method returns a new object that represents the sum of two objects. It implements the addition operator + in Python. We call this a “Dunder Method” for “Double Underscore Method” (also called “magic method”).\n"
   ]
  },
  {
   "cell_type": "markdown",
   "id": "d7f0bd07",
   "metadata": {},
   "source": [
    "# Q12. Is the _ _init_ _ method inherited by subclasses? What do you do if you need to customize its behavior within a subclass?\n",
    "\n",
    "As far as I know that's not possible, however you can call the init method of the superclass, like this:\n",
    "\n",
    "class inheritedclass(initialclass):\n",
    "    def __new__(self):\n",
    "        self.attr3 = 'three'\n",
    "        super(initialclass, self).__init__()\n",
    "        \n"
   ]
  }
 ],
 "metadata": {
  "kernelspec": {
   "display_name": "Python 3 (ipykernel)",
   "language": "python",
   "name": "python3"
  },
  "language_info": {
   "codemirror_mode": {
    "name": "ipython",
    "version": 3
   },
   "file_extension": ".py",
   "mimetype": "text/x-python",
   "name": "python",
   "nbconvert_exporter": "python",
   "pygments_lexer": "ipython3",
   "version": "3.9.7"
  }
 },
 "nbformat": 4,
 "nbformat_minor": 5
}
