{
 "cells": [
  {
   "cell_type": "markdown",
   "id": "31ae3531",
   "metadata": {},
   "source": [
    "# Q1. Does assigning a value to a string's indexed character violate Python's string immutability?\n",
    "Strings are immutable, which means you cannot change an existing string. The best you can do is create a new string that is a variation on the original.\n",
    "So assigning a value to a string's indexed character violate Python's string immutability."
   ]
  },
  {
   "cell_type": "markdown",
   "id": "1835e78b",
   "metadata": {},
   "source": [
    "# Q2. Does using the += operator to concatenate strings violate Python's string immutability? Why or why not?\n",
    "a.append(3) is not the same as a = a + 3. It's not even a += 3 (inplace addition is equivalent to .extend, not to .append)\n",
    "+= operator to concatenate strings does not violate Python's string immutability. As it extends that string."
   ]
  },
  {
   "cell_type": "markdown",
   "id": "ce6f3695",
   "metadata": {},
   "source": [
    "# Q3. In Python, how many different ways are there to index a character?\n",
    "Each of a string's characters corresponds to an index number and each character can be accessed using their index number. We can access characters in a String in Two ways : Accessing Characters by Positive Index Number. Accessing Characters by Negative Index Number."
   ]
  },
  {
   "cell_type": "markdown",
   "id": "57ebd7a5",
   "metadata": {},
   "source": [
    "# Q4. What is the relationship between indexing and slicing?\n",
    "“Indexing” means referring to an element of an iterable by its position within the iterable. “Slicing” means getting a subset of elements from an iterable based on their indices."
   ]
  },
  {
   "cell_type": "markdown",
   "id": "de09f583",
   "metadata": {},
   "source": [
    "# Q5. What is an indexed character's exact data type? What is the data form of a slicing-generated substring?\n",
    "Python has no special type for a single character. It is just a string of length 1. Data form of a slicing-generated substring is string."
   ]
  },
  {
   "cell_type": "markdown",
   "id": "a362ed59",
   "metadata": {},
   "source": [
    "# Q6. What is the relationship between string and character \"types\" in Python?\n",
    "In Python, Strings are arrays of bytes representing Unicode characters. However, Python does not have a character data type, a single character is simply a string with a length of 1. "
   ]
  },
  {
   "cell_type": "markdown",
   "id": "1eab1d72",
   "metadata": {},
   "source": [
    "# Q7. Identify at least two operators and one method that allow you to combine one or more smaller strings to create a larger string.\n",
    "The most common among them is using the plus (“+”) operator. You can combine both string variables and string literals using the “+” operator. However, there's another method that allows an easy way of concatenating multiple strings. It is using the in-place (+=) operator.\n",
    "\n",
    "The join() method takes all items in an iterable and joins them into one string. A string must be specified as the separator."
   ]
  },
  {
   "cell_type": "markdown",
   "id": "1b68ebdb",
   "metadata": {},
   "source": [
    "# Q8. What is the benefit of first checking the target string with in or not in before using the index method to find a substring?\n",
    "\n",
    "Benefit of first checking the target string with in or not in befroe using the index method to find substring regarding Time complexity. If target string is present then we can afford spending time to get target string. But if we keep searching in target string which is already not present in string can cause lost of precious time."
   ]
  },
  {
   "cell_type": "markdown",
   "id": "4ff1070d",
   "metadata": {},
   "source": [
    "# Q9. Which operators and built-in string methods produce simple Boolean (true/false) results?\n",
    "A string in Python can be tested for truth value.\n",
    "\n",
    "The return type will be in Boolean value (True or False)\n",
    "\n",
    "Let’s make an example, by first create a new variable and give it a value.\n",
    "\n",
    "\n",
    "my_string = \"Hello World\"\n",
    "\n",
    "my_string.isalnum()\t\t#check if all char are numbers\n",
    "my_string.isalpha()\t\t#check if all char in the string are alphabetic\n",
    "my_string.isdigit()\t\t#test if string contains digits\n",
    "my_string.istitle()\t\t#test if string contains title words\n",
    "my_string.isupper()\t\t#test if string contains upper case\n",
    "my_string.islower()\t\t#test if string contains lower case\n",
    "my_string.isspace()\t\t#test if string contains spaces\n",
    "my_string.endswith('d')\t\t#test if string endswith a d\n",
    "my_string.startswith('H')\t#test if string startswith H"
   ]
  }
 ],
 "metadata": {
  "kernelspec": {
   "display_name": "Python 3 (ipykernel)",
   "language": "python",
   "name": "python3"
  },
  "language_info": {
   "codemirror_mode": {
    "name": "ipython",
    "version": 3
   },
   "file_extension": ".py",
   "mimetype": "text/x-python",
   "name": "python",
   "nbconvert_exporter": "python",
   "pygments_lexer": "ipython3",
   "version": "3.9.7"
  }
 },
 "nbformat": 4,
 "nbformat_minor": 5
}
