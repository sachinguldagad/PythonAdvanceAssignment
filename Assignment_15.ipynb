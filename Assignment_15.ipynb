{
 "cells": [
  {
   "cell_type": "markdown",
   "id": "4e2420ef",
   "metadata": {},
   "source": [
    "# 1.\tWhat are the new features added in Python 3.8 version?\n",
    "Python 3.8 adds some new syntax to the language, a few minor changes to existing behavior, and mostly a bunch of speed improvements — maintaining the tradition from the earlier 3.7 release.\n",
    "# 1. The walrus operator\n",
    "# 2. Positional-only arguments\n",
    "# 3. f-strings now support \"=\"\n",
    "# 4. reversed() now works with dict\n",
    "# 5. Simplified iterable unpacking for return and yield"
   ]
  },
  {
   "cell_type": "markdown",
   "id": "afe13915",
   "metadata": {},
   "source": [
    "# 2.\tWhat is monkey patching in Python?\n",
    "In Python, the term monkey patch refers to dynamic (or run-time) modifications of a class or module. In Python, we can actually change the behavior of code at run-time. We use above module (monk) in below code and change behavior of func() at run-time by assigning different value."
   ]
  },
  {
   "cell_type": "markdown",
   "id": "d684649e",
   "metadata": {},
   "source": [
    "# 3.\tWhat is the difference between a shallow copy and deep copy?\n",
    "A shallow copy constructs a new compound object and then (to the extent possible) inserts references into it to the objects found in the original. A deep copy constructs a new compound object and then, recursively, inserts copies into it of the objects found in the original."
   ]
  },
  {
   "cell_type": "markdown",
   "id": "a07a3bbd",
   "metadata": {},
   "source": [
    "# 4.\tWhat is the maximum possible length of an identifier?\n",
    "In Python, the highest possible length of an identifier is 79 characters."
   ]
  },
  {
   "cell_type": "markdown",
   "id": "0517f1ff",
   "metadata": {},
   "source": [
    "# 5.\tWhat is generator comprehension?\n",
    "A generator comprehension is a single-line specification for defining a generator in Python. It is absolutely essential to learn this syntax in order to write simple and readable code. Note: Generator comprehensions are not the only method for defining generators in Python."
   ]
  },
  {
   "cell_type": "code",
   "execution_count": null,
   "id": "a0068fb4",
   "metadata": {},
   "outputs": [],
   "source": []
  }
 ],
 "metadata": {
  "kernelspec": {
   "display_name": "Python 3 (ipykernel)",
   "language": "python",
   "name": "python3"
  },
  "language_info": {
   "codemirror_mode": {
    "name": "ipython",
    "version": 3
   },
   "file_extension": ".py",
   "mimetype": "text/x-python",
   "name": "python",
   "nbconvert_exporter": "python",
   "pygments_lexer": "ipython3",
   "version": "3.9.7"
  }
 },
 "nbformat": 4,
 "nbformat_minor": 5
}
