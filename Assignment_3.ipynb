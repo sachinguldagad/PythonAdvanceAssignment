{
 "cells": [
  {
   "cell_type": "markdown",
   "id": "1ca31c1a",
   "metadata": {},
   "source": [
    "# 1. What is the concept of an abstract superclass?\n",
    "Abstract Super Class. A common superclass for several subclasses. Factor up common behavior. Define the methods they all respond to. Methods that subclasses should implement are declared abstract."
   ]
  },
  {
   "cell_type": "markdown",
   "id": "472c6bed",
   "metadata": {},
   "source": [
    "# 2. What happens when a class statement's top level contains a basic assignment statement?\n",
    "Abstract Super Class. A common superclass for several subclasses. Factor up common behavior. Define the methods they all respond to. Methods that subclasses should implement are declared abstract."
   ]
  },
  {
   "cell_type": "markdown",
   "id": "15c8e1e0",
   "metadata": {},
   "source": [
    "# 3. Why does a class need to manually call a superclass's __init__ method?\n",
    "The reason we use super is so that child classes that may be using cooperative multiple inheritance will call the correct next parent class function in the Method Resolution Order (MRO).\n",
    "\n",
    "class ChildB(Base):\n",
    "    def __init__(self):\n",
    "        super().__init__()"
   ]
  },
  {
   "cell_type": "markdown",
   "id": "f0da0ade",
   "metadata": {},
   "source": [
    "# 4. How can you augment, instead of completely replacing, an inherited method?\n",
    "Each method that is inherited from a super class that is augumented to perform some different action in new class. If there is no augumentation then the inherited method will perform as defined in the superclass."
   ]
  },
  {
   "cell_type": "code",
   "execution_count": null,
   "id": "b9d51016",
   "metadata": {},
   "outputs": [],
   "source": [
    "Class cMessageButton1 is a Button\n",
    "    Procedure DoShowSomething\n",
    "        Send Info_Box \"First Message\"\n",
    "    End_Procedure\n",
    "    \n",
    "    Procedure OnClick\n",
    "        Send DoShowSomething\n",
    "    End_Procedure\n",
    "End_Class\n",
    "\n",
    "Class cMessageButton2 is a cMessageButton1\n",
    "    Procedure DoShowSomething\n",
    "        Send Info_Box \"Second Message\"\n",
    "    End_Procedure\n",
    "End_Class"
   ]
  },
  {
   "cell_type": "markdown",
   "id": "e173cf88",
   "metadata": {},
   "source": [
    "# 5. How is the local scope of a class different from that of a function?\n",
    "Local scope of class: We can use variable with local scope in multiple methods which are available in class. We can also use functions and variable with local scope in another classes using friend function. \n",
    "Local scope of functions: Variable with local scope in functions cannot use in another functions. "
   ]
  }
 ],
 "metadata": {
  "kernelspec": {
   "display_name": "Python 3 (ipykernel)",
   "language": "python",
   "name": "python3"
  },
  "language_info": {
   "codemirror_mode": {
    "name": "ipython",
    "version": 3
   },
   "file_extension": ".py",
   "mimetype": "text/x-python",
   "name": "python",
   "nbconvert_exporter": "python",
   "pygments_lexer": "ipython3",
   "version": "3.9.7"
  }
 },
 "nbformat": 4,
 "nbformat_minor": 5
}
