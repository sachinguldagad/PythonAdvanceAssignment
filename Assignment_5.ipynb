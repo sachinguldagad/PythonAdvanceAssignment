{
 "cells": [
  {
   "cell_type": "markdown",
   "id": "8446f03b",
   "metadata": {},
   "source": [
    "# Q1. What is the meaning of multiple inheritance?\n",
    "Multiple inheritance. Multiple inheritance is a feature of some object-oriented computer programming languages in which a class can inherit characteristics and features from more than one superclass. It is distinct from single inheritance, where a class may only inherit from one particular superclass."
   ]
  },
  {
   "cell_type": "markdown",
   "id": "69db59ae",
   "metadata": {},
   "source": [
    "# Q2. What is the concept of delegation?\n",
    "Delegation is commonly defined as the shifting of authority and responsibility for particular functions, tasks or decisions from one person (usually a leader or manager) to another."
   ]
  },
  {
   "cell_type": "markdown",
   "id": "2a02b647",
   "metadata": {},
   "source": [
    "# Q3. What is the concept of composition?\n",
    "Composition is a concept that models a has a relationship. It enables creating complex types by combining objects of other types. This means that a class Composite can contain an object of another class Component . This relationship means that a Composite has a Component ."
   ]
  },
  {
   "cell_type": "markdown",
   "id": "be443b1c",
   "metadata": {},
   "source": [
    "# Q4. What are bound methods and how do we use them?\n",
    "A bound method is the one which is dependent on the instance of the class as the first argument. It passes the instance as the first argument which is used to access the variables and functions. In Python 3 and newer versions of python, all functions in the class are by default bound methods."
   ]
  },
  {
   "cell_type": "markdown",
   "id": "6f84e141",
   "metadata": {},
   "source": [
    "# Q5. What is the purpose of pseudoprivate attributes?\n",
    "Pseudoprivate attributes are also useful in larger frameworks or tools, both to avoid introducing new method names that might accidentally hide definitions elsewhere in the class tree and to reduce the chance of internal methods being replaced by names defined lower in the tree."
   ]
  }
 ],
 "metadata": {
  "kernelspec": {
   "display_name": "Python 3 (ipykernel)",
   "language": "python",
   "name": "python3"
  },
  "language_info": {
   "codemirror_mode": {
    "name": "ipython",
    "version": 3
   },
   "file_extension": ".py",
   "mimetype": "text/x-python",
   "name": "python",
   "nbconvert_exporter": "python",
   "pygments_lexer": "ipython3",
   "version": "3.9.7"
  }
 },
 "nbformat": 4,
 "nbformat_minor": 5
}
