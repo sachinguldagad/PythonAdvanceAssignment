{
 "cells": [
  {
   "cell_type": "markdown",
   "id": "d8f5fb34",
   "metadata": {},
   "source": [
    "# Q1. Describe three applications for exception processing.\n",
    "Python provides a way to handle the exception so that the code can be executed without any interruption. If we do not handle the exception, the interpreter doesn't execute all the code that exists after the exception.\n",
    "\n",
    "1)\n",
    "# Can't divide integer number by zero.\n",
    "try:  \n",
    "    a = int(input(\"Enter a:\"))    \n",
    "    b = int(input(\"Enter b:\"))    \n",
    "    c = a/b  \n",
    "except:  \n",
    "    print(\"Can't divide with zero\")  \n",
    "    \n",
    "2)\n",
    "\n",
    "try:    \n",
    "    a = int(input(\"Enter a:\"))    \n",
    "    b = int(input(\"Enter b:\"))    \n",
    "    c = a/b  \n",
    "    print(\"a/b = %d\"%c)    \n",
    "# Using Exception with except statement. If we print(Exception) it will return exception class  \n",
    "except Exception:    \n",
    "    print(\"can't divide by zero\")    \n",
    "    print(Exception)  \n",
    "else:    \n",
    "    print(\"Hi I am else block\")   \n",
    "\n",
    "3)\n",
    "try:    \n",
    "   # This will throw an exception if the file doesn't exist.     \n",
    "    fileptr = open(\"file.txt\",\"r\")    \n",
    "except IOError:    \n",
    "    print(\"File not found\")    \n",
    "else:    \n",
    "    print(\"The file opened successfully\")    \n",
    "    fileptr.close()    "
   ]
  },
  {
   "cell_type": "markdown",
   "id": "dae851e3",
   "metadata": {},
   "source": [
    "# Q2. What happens if you don't do something extra to treat an exception?\n",
    "When an exception occurred, if you don't handle it, the program terminates abruptly and the code past the line that caused the exception will not get executed."
   ]
  },
  {
   "cell_type": "markdown",
   "id": "59efbb22",
   "metadata": {},
   "source": [
    "# Q3. What are your options for recovering from an exception in your script?\n",
    "Any function can be assigned to a script as a recovery function. Once set, if there is an error during execution, the recovery function will be called before the script stops.\n",
    "\n",
    "Example:\n",
    "function myRecoveryFn(){\n",
    "  _alert(\"In myRecoveryFn.\"); // This statement will be alerted in case of script error.\n",
    "}\n",
    "\n",
    "_setRecovery(myRecoveryFn); // Set the myRecoveryFn as recovery function.\n",
    "_click(_link(\"Link Test\")); // Works normally\n",
    "_click(_link(\"Bad Link\"));\n",
    "// This statement fails and causes myRecoveryFn to be called.\n",
    "_alert(\"done\");\n",
    "// This statement will not be called, because script failed in the last statement."
   ]
  },
  {
   "cell_type": "markdown",
   "id": "d3c3be72",
   "metadata": {},
   "source": [
    "# Q4. Describe two methods for triggering exceptions in your script.\n",
    "there are two methods to handle Python exceptions:\n",
    "\n",
    "Try – This method catches the exceptions raised by the program. In Try block we write code which has error possibility.\n",
    "    And in catch block we have code which handles exception by printing what is error or what is wrong with input.\n",
    "Raise – Triggers an exception manually using custom exceptions"
   ]
  },
  {
   "cell_type": "markdown",
   "id": "91ac0367",
   "metadata": {},
   "source": [
    "# Q5. Identify two methods for specifying actions to be executed at termination time, regardless of whether or not an exception exists.\n",
    "\n",
    "Finally block always executes irrespective of an exception being thrown or not. The final keyword allows you to create a block of code that follows a try-catch block.\n",
    "\n",
    "Finally, clause is optional. It is intended to define clean-up actions which should be that executed in all conditions.\n",
    "\n",
    "try:\n",
    "    raise KeyboardInterrupt\n",
    "finally:\n",
    "    print 'welcome, world!'\n",
    "Output\n",
    "Welcome, world!\n",
    "KeyboardInterrupt\n",
    "\n",
    "\n",
    "A try statement includes keyword try, followed by a colon (:) and a suite of code in which exceptions may occur. It has one or more clauses.\n",
    "During the execution of the try statement, if no exceptions occurred then, the interpreter ignores the exception handlers for that specific try statement.\n"
   ]
  }
 ],
 "metadata": {
  "kernelspec": {
   "display_name": "Python 3 (ipykernel)",
   "language": "python",
   "name": "python3"
  },
  "language_info": {
   "codemirror_mode": {
    "name": "ipython",
    "version": 3
   },
   "file_extension": ".py",
   "mimetype": "text/x-python",
   "name": "python",
   "nbconvert_exporter": "python",
   "pygments_lexer": "ipython3",
   "version": "3.9.7"
  }
 },
 "nbformat": 4,
 "nbformat_minor": 5
}
