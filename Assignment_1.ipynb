{
 "cells": [
  {
   "cell_type": "markdown",
   "id": "afdc7f8f",
   "metadata": {},
   "source": [
    "# Q1. What is the purpose of Python's OOP?\n",
    "In Python, object-oriented Programming (OOPs) is a programming paradigm that uses objects and classes in programming. It aims to implement real-world entities like inheritance, polymorphisms, encapsulation, etc."
   ]
  },
  {
   "cell_type": "markdown",
   "id": "84db0f90",
   "metadata": {},
   "source": [
    "# Q2. Where does an inheritance search look for an attribute?\n",
    "All of these objects are namespaces (packages of variables), and the inheritance search is simply a search of the tree from bottom to top looking for the lowest occurrence of an attribute name."
   ]
  },
  {
   "cell_type": "markdown",
   "id": "5bda68ea",
   "metadata": {},
   "source": [
    "# Q3. How do you distinguish between a class object and an instance object?\n",
    "In simple words, Instance refers to the copy of the object at a particular time whereas object refers to the memory address of the class."
   ]
  },
  {
   "cell_type": "markdown",
   "id": "96ff76b9",
   "metadata": {},
   "source": [
    "# Q4. What makes the first argument in a class’s method function special?\n",
    "The first argument of every class method, including init, is always a reference to the current instance of the class. By convention, this argument is always named self. In the init method, self refers to the newly created object; in other class methods, it refers to the instance whose method was called."
   ]
  },
  {
   "cell_type": "markdown",
   "id": "d57334e8",
   "metadata": {},
   "source": [
    "# Q5. What is the purpose of the __init__ method?\n",
    "The __init__ method is similar to constructors in C++ and Java . Constructors are used to initialize the object's state. The task of constructors is to initialize(assign values) to the data members of the class when an object of class is created."
   ]
  },
  {
   "cell_type": "markdown",
   "id": "77793509",
   "metadata": {},
   "source": [
    "# Q6. What is the process for creating a class instance?\n",
    "To create instances of a class, you call the class using class name and pass in whatever arguments its __init__ method accepts.\n",
    "class Employee:\n",
    "   'Common base class for all employees'\n",
    "   empCount = 0\n",
    "\n",
    "   def __init__(self, name, salary):\n",
    "      self.name = name\n",
    "      self.salary = salary\n",
    "      Employee.empCount += 1\n",
    "   def displayCount(self):\n",
    "      print \"Total Employee %d\" % Employee.empCount\n",
    "\n",
    "   def displayEmployee(self):\n",
    "      print \"Name : \", self.name,  \", Salary: \", self.salary\n",
    "\n",
    "\"This would create first object of Employee class\"\n",
    "emp1 = Employee(\"Zara\", 2000)\n",
    "\"This would create second object of Employee class\"\n",
    "emp2 = Employee(\"Manni\", 5000)\n",
    "emp1.displayEmployee()\n",
    "emp2.displayEmployee()\n",
    "print \"Total Employee %d\" % Employee.empCount"
   ]
  },
  {
   "cell_type": "markdown",
   "id": "a7197ac5",
   "metadata": {},
   "source": [
    "# Q7. What is the process for creating a class?\n",
    "Class creates a user-defined data structure, which holds its own data members and member functions, which can be accessed and used by creating an instance of that class. A class is like a blueprint for an object.\n",
    "\n",
    "Class Definition Syntax:\n",
    "\n",
    "class ClassName:\n",
    "    # Statement-1\n",
    "    .\n",
    "    .\n",
    "    .\n",
    "    # Statement-N"
   ]
  },
  {
   "cell_type": "markdown",
   "id": "ec19f42a",
   "metadata": {},
   "source": [
    "# Q8. How would you define the superclasses of a class?\n",
    "A superclass is the class from which many subclasses can be created. The subclasses inherit the characteristics of a superclass. The superclass is also known as the parent class or base class.\n",
    "\n",
    "class Animals:\n",
    "     \n",
    "    # Initializing constructor\n",
    "    def __init__(self):\n",
    "        self.legs = 4\n",
    "        self.domestic = True\n",
    "        self.tail = True\n",
    "        self.mammals = True\n",
    "     \n",
    "    def isMammal(self):\n",
    "        if self.mammals:\n",
    "            print(\"It is a mammal.\")\n",
    "     \n",
    "    def isDomestic(self):\n",
    "        if self.domestic:\n",
    "            print(\"It is a domestic animal.\")\n",
    "     \n",
    "class Dogs(Animals):\n",
    "    def __init__(self):\n",
    "        super().__init__()\n",
    " \n",
    "    def isMammal(self):\n",
    "        super().isMammal()\n",
    " class Horses(Animals):\n",
    "    def __init__(self):\n",
    "        super().__init__()\n",
    " \n",
    "    def hasTailandLegs(self):\n",
    "        if self.tail and self.legs == 4:\n",
    "            print(\"Has legs and tail\")\n",
    "Tom = Dogs()\n",
    "Tom.isMammal()\n",
    "Bruno = Horses()\n",
    "Bruno.hasTailandLegs()"
   ]
  }
 ],
 "metadata": {
  "kernelspec": {
   "display_name": "Python 3 (ipykernel)",
   "language": "python",
   "name": "python3"
  },
  "language_info": {
   "codemirror_mode": {
    "name": "ipython",
    "version": 3
   },
   "file_extension": ".py",
   "mimetype": "text/x-python",
   "name": "python",
   "nbconvert_exporter": "python",
   "pygments_lexer": "ipython3",
   "version": "3.9.7"
  }
 },
 "nbformat": 4,
 "nbformat_minor": 5
}
