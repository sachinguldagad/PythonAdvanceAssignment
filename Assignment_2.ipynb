{
 "cells": [
  {
   "cell_type": "markdown",
   "id": "bf91f614",
   "metadata": {},
   "source": [
    "# Q1. What is the relationship between classes and modules?\n",
    "Modules are collections of methods and constants. They cannot generate instances. Classes may generate instances (objects), and have per-instance state (instance variables).\n",
    "\n",
    "Modules may be mixed in to classes and other modules. The mixed in module’s constants and methods blend into that class’s own, augmenting the class’s functionality. Classes, however, cannot be mixed in to anything.\n",
    "\n",
    "A class may inherit from another class, but not from a module.\n",
    "\n",
    "A module may not inherit from anything."
   ]
  },
  {
   "cell_type": "markdown",
   "id": "70fb64a3",
   "metadata": {},
   "source": [
    "# Q2. How do you make instances and classes?\n",
    "A class is a template for storing data and functions in an object. A class can be instantiated to create a unique instance. A class can accept parameters in the constructor.\n",
    "class keyword is used to create class.\n",
    "instances are the blueprints of classes. which can be declared to call the methods and attributes of classes."
   ]
  },
  {
   "cell_type": "code",
   "execution_count": 1,
   "id": "d1a2a46d",
   "metadata": {},
   "outputs": [
    {
     "name": "stdout",
     "output_type": "stream",
     "text": [
      "<__main__.C object at 0x00000179E10869A0>\n"
     ]
    }
   ],
   "source": [
    "class C:\n",
    "    pass\n",
    "\n",
    "an_instance = C()\n",
    "print(an_instance)"
   ]
  },
  {
   "cell_type": "markdown",
   "id": "935819dc",
   "metadata": {},
   "source": [
    "# Q3. Where and how should be class attributes created?\n",
    "Class attributes are attributes which are owned by the class itself. They will be shared by all the instances of the class. Therefore they have the same value for every instance. We define class attributes outside all the methods, usually they are placed at the top, right below the class header."
   ]
  },
  {
   "cell_type": "markdown",
   "id": "47c20395",
   "metadata": {},
   "source": [
    "# Q4. Where and how are instance attributes created?\n",
    "Instance attributes are defined in the constructor. Defined directly inside a class. Defined inside a constructor using the self parameter"
   ]
  },
  {
   "cell_type": "markdown",
   "id": "6efba2e1",
   "metadata": {},
   "source": [
    "# Q5. What does the term \"self\" in a Python class mean?\n",
    "The self is used to represent the instance of the class. With this keyword, you can access the attributes and methods of the class in python. It binds the attributes with the given arguments. The reason why we use self is that Python does not use the ‘@’ syntax to refer to instance attributes."
   ]
  },
  {
   "cell_type": "markdown",
   "id": "5a56cfda",
   "metadata": {},
   "source": [
    "# Q6. How does a Python class handle operator overloading?\n",
    "The operator overloading in Python means provide extended meaning beyond their predefined operational meaning. Such as, we use the \"+\" operator for adding two integers as well as joining two strings or merging two lists. We can achieve this as the \"+\" operator is overloaded by the \"int\" class and \"str\" class. "
   ]
  },
  {
   "cell_type": "code",
   "execution_count": null,
   "id": "8f0851c4",
   "metadata": {},
   "outputs": [
    {
     "name": "stdout",
     "output_type": "stream",
     "text": [
      "Please enter the value: \n"
     ]
    }
   ],
   "source": [
    "class example:  \n",
    "    def __init__(self, X):  \n",
    "        self.X = X  \n",
    "   \n",
    "    # adding two objects  \n",
    "    def __add__(self, U):  \n",
    "        return self.X + U.X  \n",
    "object_1 = example( int( input( print (\"Please enter the value: \"))))  \n",
    "object_2 = example( int( input( print (\"Please enter the value: \"))))  \n",
    "print (\": \", object_1 + object_2)  \n",
    "object_3 = example(str( input( print (\"Please enter the value: \"))))  \n",
    "object_4 = example(str( input( print (\"Please enter the value: \"))))  \n",
    "print (\": \", object_3 + object_4)   "
   ]
  },
  {
   "cell_type": "markdown",
   "id": "5b29614d",
   "metadata": {},
   "source": [
    "# Q7. When do you consider allowing operator overloading of your classes?\n",
    "Consider that we have two objects which are a physical representation of a class (user-defined data type) and we have to add two objects with binary '+' operator it throws an error, because compiler don't know how to add two objects. So we define a method for an operator and that process is called operator overloading."
   ]
  },
  {
   "cell_type": "markdown",
   "id": "77fd3668",
   "metadata": {},
   "source": [
    "# Q8. What is the most popular form of operator overloading?\n",
    "A very popular and convenient example is the Addition (+) operator. Just think how the '+' operator operates on two numbers and the same operator operates on two strings. It performs “Addition” on numbers whereas it performs “Concatenation” on strings."
   ]
  },
  {
   "cell_type": "markdown",
   "id": "74f0ce16",
   "metadata": {},
   "source": [
    "# Q9. What are the two most important concepts to grasp in order to comprehend Python OOP code?\n",
    "In order to develop robust and well-designed software products with Python, it is essential to obtain a comprehensive understanding of OOP. In this article, we will elaborate on two key concepts of OOP which are inheritance and polymorphism."
   ]
  }
 ],
 "metadata": {
  "kernelspec": {
   "display_name": "Python 3 (ipykernel)",
   "language": "python",
   "name": "python3"
  },
  "language_info": {
   "codemirror_mode": {
    "name": "ipython",
    "version": 3
   },
   "file_extension": ".py",
   "mimetype": "text/x-python",
   "name": "python",
   "nbconvert_exporter": "python",
   "pygments_lexer": "ipython3",
   "version": "3.9.7"
  }
 },
 "nbformat": 4,
 "nbformat_minor": 5
}
