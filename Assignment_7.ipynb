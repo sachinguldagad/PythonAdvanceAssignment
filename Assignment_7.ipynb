{
 "cells": [
  {
   "cell_type": "markdown",
   "id": "3c7f0885",
   "metadata": {},
   "source": [
    "# Q1. What is the purpose of the try statement?\n",
    "A try statement includes keyword try, followed by a colon (:) and a suite of code in which exceptions may occur. It has one or more clauses.\n",
    "During the execution of the try statement, if no exceptions occurred then, the interpreter ignores the exception handlers for that specific try statement.\n",
    "In case, if any exception occurs in a try suite, the try suite expires and program control transfers to the matching except handler following the try suite.\n",
    "\n",
    "Syntax:\n",
    "try:\n",
    "statement(s)"
   ]
  },
  {
   "cell_type": "markdown",
   "id": "74231535",
   "metadata": {},
   "source": [
    "# Q2. What are the two most popular try statement variations?\n",
    "Try Block Statements\n",
    "A try statement surrounds a protected block that receives special treatment when an Exception occurs during its execution, whether in the try block itself, or any other code that is called from within the block."
   ]
  },
  {
   "cell_type": "markdown",
   "id": "bb25929b",
   "metadata": {},
   "source": [
    "# Q3. What is the purpose of the raise statement?\n",
    "The raise keyword is used to raise an exception. You can define what kind of error to raise, and the text to print to the user."
   ]
  },
  {
   "cell_type": "markdown",
   "id": "40cfbf95",
   "metadata": {},
   "source": [
    "# Q4. What does the assert statement do, and what other statement is it like?\n",
    "An assert statement checks whether a condition is true. If a condition evaluates to True, a program will keep running. If a condition is false, the program will return an AssertionError. At this point, the program will stop executing.\n"
   ]
  },
  {
   "cell_type": "markdown",
   "id": "5315c96d",
   "metadata": {},
   "source": [
    "# Q5. What is the purpose of the with/as argument, and what other statement is it like?\n",
    "The with statement in Python is used for resource management and exception handling. You’d most likely find it when working with file streams. For example, the statement ensures that the file stream process doesn’t block other processes if an exception is raised, but terminates properly.\n",
    "\n",
    "with open('file-path', 'w') as file: \n",
    "    file.write('Lorem ipsum') "
   ]
  }
 ],
 "metadata": {
  "kernelspec": {
   "display_name": "Python 3 (ipykernel)",
   "language": "python",
   "name": "python3"
  },
  "language_info": {
   "codemirror_mode": {
    "name": "ipython",
    "version": 3
   },
   "file_extension": ".py",
   "mimetype": "text/x-python",
   "name": "python",
   "nbconvert_exporter": "python",
   "pygments_lexer": "ipython3",
   "version": "3.9.7"
  }
 },
 "nbformat": 4,
 "nbformat_minor": 5
}
