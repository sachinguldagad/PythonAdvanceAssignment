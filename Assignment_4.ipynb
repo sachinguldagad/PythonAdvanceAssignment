{
 "cells": [
  {
   "cell_type": "markdown",
   "id": "a51358ea",
   "metadata": {},
   "source": [
    "# Q1. Which two operator overloading methods can you use in your classes to support iteration?\n",
    "Iteration Overloading Methods in Python:\n",
    "The __iter__ returns the iterator object and is implicitly called at the start of loops.\n",
    "The __next__ method returns the next value and is implicitly called at each loop increment. __next__ raises a StopIteration exception when there are no more value to return, which is implicitly captured by looping constructs to stop iterating.\n"
   ]
  },
  {
   "cell_type": "markdown",
   "id": "2b130fe0",
   "metadata": {},
   "source": [
    "# Q2. In what contexts do the two operator overloading methods manage printing?\n",
    "The str() built-in is used to cast an instance of a class to a str object, or more appropriately, to obtain a user-friendly string representation of the object which can be read by a normal user rather than the programmer. You can define the string format your object should be displayed in when passed to str() by defining the __str__() method in your class. Moreover, __str__() is the method that is used by Python when you call print() on your object."
   ]
  },
  {
   "cell_type": "markdown",
   "id": "c215b531",
   "metadata": {},
   "source": [
    "# Q3. In a class, how do you intercept slice operations?\n",
    "The [] operator is called the indexing operator and is used in various contexts in Python such as getting the value at an index in sequences, getting the value associated with a key in dictionaries, or obtaining a part of a sequence through slicing. You can change its behavior using the __getitem__() special method.\n",
    "Python slice() function returns a slice object. \n",
    "A sequence of objects of any type(string, bytes, tuple, list or range) or the object which implements __getitem__() and __len__() method then this object can be sliced using slice() method.\n"
   ]
  },
  {
   "cell_type": "markdown",
   "id": "e7e361a9",
   "metadata": {},
   "source": [
    "# Q4. In a class, how do you capture in-place addition?\n",
    "Python in its definition provides methods to perform inplace operations, i.e doing assignment and computation in a single statement using “operator” module. For example,\n",
    "x += y is equivalent to x = operator.iadd(x, y) \n",
    "Some Important Inplace operations :\n",
    "1. iadd() :- This function is used to assign and add the current value. This operation does “a+=b” operation. Assigning is not performed in case of immutable containers, such as strings, numbers and tuples.\n",
    "2. iconcat() :- This function is used to concat one string at end of second.\n"
   ]
  },
  {
   "cell_type": "markdown",
   "id": "086d6f81",
   "metadata": {},
   "source": [
    "# Q5. When is it appropriate to use operator overloading?\n",
    "Ans.  Using operator overloading in , you can specify more than one meaning for an operator in one scope. The purpose of operator overloading is to provide a special meaning of an operator for a user-defined data type.\n",
    "With the help of operator overloading, you can redefine the majority of the C++ operators. You can also use operator overloading to perform different operations using one operator.\n"
   ]
  }
 ],
 "metadata": {
  "kernelspec": {
   "display_name": "Python 3 (ipykernel)",
   "language": "python",
   "name": "python3"
  },
  "language_info": {
   "codemirror_mode": {
    "name": "ipython",
    "version": 3
   },
   "file_extension": ".py",
   "mimetype": "text/x-python",
   "name": "python",
   "nbconvert_exporter": "python",
   "pygments_lexer": "ipython3",
   "version": "3.9.7"
  }
 },
 "nbformat": 4,
 "nbformat_minor": 5
}
