{
 "cells": [
  {
   "cell_type": "markdown",
   "id": "52a44bb1",
   "metadata": {},
   "source": [
    "# 1. Compare and contrast the float and Decimal classes' benefits and drawbacks."
   ]
  },
  {
   "cell_type": "markdown",
   "id": "367e1a2c",
   "metadata": {},
   "source": [
    "# Float: \n",
    "Use floats when convenience and speed matter. A float gives you an approximation of the number you declare.\n",
    "For example, if I print 0.1 with 18 decimals places, I don’t actually get 0.1 but instead an approximation.\n",
    "\n",
    "when doing operations, such as addition with floats, you get an approximation, which can lead confusing code,\n",
    "one of the big issues with floats which is the lack of reliable equality testing"
   ]
  },
  {
   "cell_type": "markdown",
   "id": "e7897f46",
   "metadata": {},
   "source": [
    "# Decimal:\n",
    "The precision benefits of a decimal outweigh the performance benefits of a float.\n",
    "The decimal declared as a float is not technically 0.01, which results in an equality test of false.\n",
    "All decimals should be initialized using strings to prevent precision issues.\n",
    "If decimals aren’t initialized with strings, we lose some of the precision benefits of decimals and create subtle bugs."
   ]
  },
  {
   "cell_type": "markdown",
   "id": "8fc58db2",
   "metadata": {},
   "source": [
    "# 2. Decimal('1.200') and Decimal('1.2') are two objects to consider. In what sense are these the same object? Are these just two ways of representing the exact same value, or do they correspond to different internal states?\n"
   ]
  },
  {
   "cell_type": "code",
   "execution_count": 1,
   "id": "7bf3cb6a",
   "metadata": {},
   "outputs": [
    {
     "name": "stdout",
     "output_type": "stream",
     "text": [
      "equal\n"
     ]
    }
   ],
   "source": [
    "from decimal import Decimal\n",
    "if Decimal('1.200')==Decimal('1.2'):\n",
    "    print(\"equal\")\n",
    "else:\n",
    "    print(\"not equal\")"
   ]
  },
  {
   "cell_type": "markdown",
   "id": "fa924128",
   "metadata": {},
   "source": [
    "# \n",
    "Decimal('1.200') and Decimal('1.2') both are equal. All decimals should be initialized using strings to prevent precision issues. Thats why both decimal representing same value. They don't correspond to different internal states."
   ]
  },
  {
   "cell_type": "markdown",
   "id": "22d5d227",
   "metadata": {},
   "source": [
    "# 3. What happens if the equality of Decimal('1.200') and Decimal('1.2') is checked?\n"
   ]
  },
  {
   "cell_type": "code",
   "execution_count": 2,
   "id": "bede1e97",
   "metadata": {},
   "outputs": [
    {
     "name": "stdout",
     "output_type": "stream",
     "text": [
      "equal\n"
     ]
    }
   ],
   "source": [
    "from decimal import Decimal\n",
    "if Decimal('1.200')==Decimal('1.2'):\n",
    "    print(\"equal\")\n",
    "else:\n",
    "    print(\"not equal\")"
   ]
  },
  {
   "cell_type": "markdown",
   "id": "6ca8da32",
   "metadata": {},
   "source": [
    "# 4. Why is it preferable to start a Decimal object with a string rather than a floating-point value?\n",
    " All decimals should be initialized using strings to prevent precision issues.  If decimals aren’t initialized with strings, we lose some of the precision benefits of decimals and create subtle bugs."
   ]
  },
  {
   "cell_type": "markdown",
   "id": "57bb41e8",
   "metadata": {},
   "source": [
    "# 5. In an arithmetic phrase, how simple is it to combine Decimal objects with integers?\n",
    "checking how many values you have in the 'decimal', dividing by 10^amount and adding them\n",
    "\n",
    "As was pointed out - decimal seperator is cultural-specific - so the completly correct version is\n",
    "\n",
    "string number = wholeNumber + System.Globalization.CultureInfo.CurrentCulture.NumberFormat.NumberDecimalSepar‌​ator + decimal\n",
    "double doubleNumber = Double.Parse(number);"
   ]
  },
  {
   "cell_type": "markdown",
   "id": "300ad021",
   "metadata": {},
   "source": [
    "# 6. Can Decimal objects and floating-point values be combined easily?\n",
    "Decimal objects cannot generally be combined with floats or instances of fractions."
   ]
  },
  {
   "cell_type": "markdown",
   "id": "4a3c83f7",
   "metadata": {},
   "source": [
    "# 7. Using the Fraction class but not the Decimal class, give an example of a quantity that can be expressed with absolute precision.\n"
   ]
  },
  {
   "cell_type": "code",
   "execution_count": 9,
   "id": "13a4c5a1",
   "metadata": {},
   "outputs": [
    {
     "name": "stdout",
     "output_type": "stream",
     "text": [
      "equal\n"
     ]
    }
   ],
   "source": [
    "from fractions import Fraction\n",
    "d=Decimal(0.5)\n",
    "f=Fraction(5,10)\n",
    "if (d==f):\n",
    "    print(\"equal\")\n",
    "else:\n",
    "    print(\"not equal\")"
   ]
  },
  {
   "cell_type": "markdown",
   "id": "76e5cdf0",
   "metadata": {},
   "source": [
    "# 8. Describe a quantity that can be accurately expressed by the Decimal or Fraction classes but not by a floating-point value.\n"
   ]
  },
  {
   "cell_type": "code",
   "execution_count": 7,
   "id": "9a28de18",
   "metadata": {},
   "outputs": [
    {
     "name": "stdout",
     "output_type": "stream",
     "text": [
      "equal\n"
     ]
    }
   ],
   "source": [
    "from fractions import Fraction\n",
    "d=Decimal(\"0.5\")\n",
    "f=Fraction(1,2)\n",
    "fl=float(0.5)\n",
    "if (d==f) and (d==fl) and (f==fl):\n",
    "    print(\"equal\")\n",
    "else:\n",
    "    print(\"not equal\")"
   ]
  },
  {
   "cell_type": "markdown",
   "id": "1e4a5d97",
   "metadata": {},
   "source": [
    "# Q9.Consider the following two fraction objects: Fraction(1, 2) and Fraction(1, 2). (5, 10). Is the internal state of these two objects the same? Why do you think that is?\n",
    "The internal state of these two objects the same. Result of both "
   ]
  },
  {
   "cell_type": "code",
   "execution_count": 4,
   "id": "ff09d2b1",
   "metadata": {},
   "outputs": [
    {
     "name": "stdout",
     "output_type": "stream",
     "text": [
      "1/2\n",
      "1/2\n",
      "equal\n"
     ]
    }
   ],
   "source": [
    "\n",
    "print(Fraction(1,2))\n",
    "print(Fraction(5,10))\n",
    "if Fraction(1,2)==Fraction(5,10):\n",
    "    print(\"equal\")\n",
    "else:\n",
    "    print(\"not equal\")"
   ]
  },
  {
   "cell_type": "markdown",
   "id": "e228331f",
   "metadata": {},
   "source": [
    "# Q10. How do the Fraction class and the integer type (int) relate to each other? Containment or inheritance?\n",
    "Integers include all whole numbers, plus the negatives of all the numbers except zero. They do not include any decimal or fractional numbers. Fractions, on the other hand, express one integer divided by another, and often equal a decimal number. ... This will give you the new fraction 4/1, or 4."
   ]
  }
 ],
 "metadata": {
  "kernelspec": {
   "display_name": "Python 3 (ipykernel)",
   "language": "python",
   "name": "python3"
  },
  "language_info": {
   "codemirror_mode": {
    "name": "ipython",
    "version": 3
   },
   "file_extension": ".py",
   "mimetype": "text/x-python",
   "name": "python",
   "nbconvert_exporter": "python",
   "pygments_lexer": "ipython3",
   "version": "3.9.7"
  }
 },
 "nbformat": 4,
 "nbformat_minor": 5
}
