{
 "cells": [
  {
   "cell_type": "markdown",
   "id": "3bbcfc9d",
   "metadata": {},
   "source": [
    "# What is the difference between __getattr__ and __getattribute__?\n",
    "getattribute: Is used to retrieve an attribute from an instance. getattr: Is executed as the last resource when attribute is not found in an object."
   ]
  },
  {
   "cell_type": "markdown",
   "id": "63360adb",
   "metadata": {},
   "source": [
    "# Q2. What is the difference between properties and descriptors?\n",
    "The Cliff's Notes version: descriptors are a low-level mechanism that lets you hook into an object's attributes being accessed. Properties are a high-level application of this; that is, properties are implemented using descriptors."
   ]
  },
  {
   "cell_type": "markdown",
   "id": "b6d41c5d",
   "metadata": {},
   "source": [
    "# Q3. What are the key differences in functionality between __getattr__ and __getattribute__, as well as properties and descriptors?\n",
    "A key difference between __getattr__ and __getattribute__ is that __getattr__ is only invoked if the attribute wasn't found the usual ways. It's good for implementing a fallback for missing attributes, and is probably the one of two you want.\n",
    "The Cliff's Notes version: descriptors are a low-level mechanism that lets you hook into an object's attributes being accessed. Properties are a high-level application of this; that is, properties are implemented using descriptors."
   ]
  }
 ],
 "metadata": {
  "kernelspec": {
   "display_name": "Python 3 (ipykernel)",
   "language": "python",
   "name": "python3"
  },
  "language_info": {
   "codemirror_mode": {
    "name": "ipython",
    "version": 3
   },
   "file_extension": ".py",
   "mimetype": "text/x-python",
   "name": "python",
   "nbconvert_exporter": "python",
   "pygments_lexer": "ipython3",
   "version": "3.9.7"
  }
 },
 "nbformat": 4,
 "nbformat_minor": 5
}
